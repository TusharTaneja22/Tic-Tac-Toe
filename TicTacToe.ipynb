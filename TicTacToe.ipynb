{
  "nbformat": 4,
  "nbformat_minor": 0,
  "metadata": {
    "colab": {
      "name": "TicTacToe.ipynb",
      "provenance": [],
      "authorship_tag": "ABX9TyOmFsduphcuR1DN6IslBzwQ",
      "include_colab_link": true
    },
    "kernelspec": {
      "name": "python3",
      "display_name": "Python 3"
    },
    "language_info": {
      "name": "python"
    }
  },
  "cells": [
    {
      "cell_type": "markdown",
      "metadata": {
        "id": "view-in-github",
        "colab_type": "text"
      },
      "source": [
        "<a href=\"https://colab.research.google.com/github/TusharTaneja22/Project/blob/master/TicTacToe.ipynb\" target=\"_parent\"><img src=\"https://colab.research.google.com/assets/colab-badge.svg\" alt=\"Open In Colab\"/></a>"
      ]
    },
    {
      "cell_type": "code",
      "metadata": {
        "colab": {
          "base_uri": "https://localhost:8080/"
        },
        "id": "1ytkR7glYb70",
        "outputId": "7f920cbe-b62b-4a07-8218-a7b107068b7b"
      },
      "source": [
        "from IPython.display import clear_output\n",
        "def display_board(board):\n",
        "    clear_output()\n",
        "    print('   |   |')\n",
        "    print(' ' + board[7] +' | '+ board[8] +' | '+ board[9])\n",
        "    print('   |   |')\n",
        "    print('-----------')\n",
        "    print('   |   |')\n",
        "    print(' ' + board[4] +' | '+ board[5] +' | '+ board[6])\n",
        "    print('   |   |')\n",
        "    print('-----------')\n",
        "    print('   |   |')\n",
        "    print(' ' + board[1] +' | '+ board[2] +' | '+ board[3])\n",
        "    print('   |   |')\n",
        "test_board=['#','X','O','X','O','X','O','X','O','X']\n",
        "display_board(test_board)\n",
        "def player_input():\n",
        "    marker=''\n",
        "    while marker!='X' and marker!='O':\n",
        "        marker=input('Player 1: what u want to choose X or O? ').upper()\n",
        "        if marker=='X':\n",
        "            return ('X','O')\n",
        "        else:\n",
        "            return ('O','X')\n",
        "def place_marker(board,marker,position):\n",
        "    board[position]=marker\n",
        "def win_check(board,mark):\n",
        "    return ((board[7] == mark and board[8] == mark and board[9] == mark) or # across the top\n",
        "    (board[4] == mark and board[5] == mark and board[6] == mark) or # across the middle\n",
        "    (board[1] == mark and board[2] == mark and board[3] == mark) or # across the bottom\n",
        "    (board[7] == mark and board[4] == mark and board[1] == mark) or # down the middle\n",
        "    (board[8] == mark and board[5] == mark and board[2] == mark) or # down the middle\n",
        "    (board[9] == mark and board[6] == mark and board[3] == mark) or # down the right side\n",
        "    (board[7] == mark and board[5] == mark and board[3] == mark) or # diagonal\n",
        "    (board[9] == mark and board[5] == mark and board[1] == mark)) # diagonal\n",
        "import random\n",
        "def choose_first():\n",
        "    if random.randint(0,1)==0:\n",
        "        return 'Player 2'\n",
        "    else:\n",
        "        return 'Player1'\n",
        "def space_check(board,position):\n",
        "    return board[position]==' '\n",
        "def full_board_check(board):\n",
        "    for i in range(1,10):\n",
        "        if space_check(board,i):\n",
        "            return False\n",
        "        \n",
        "    return True\n",
        "def player_choice(board):\n",
        "    position=0\n",
        "    while position not in [1,2,3,4,5,6,7,8,9] or not space_check(board,position):\n",
        "         position = int(input('Choose your next position: (1-9) '))\n",
        "        \n",
        "    return position\n",
        "def replay():\n",
        "    choice=input('Want to Play again ?Enter Yes or No')\n",
        "    return choice=='Yes'\n",
        "print('Welcome to Tic Tac Toe!')\n",
        "while True:\n",
        "    theBoard=[' ']*10\n",
        "    player1_marker,player2_marker=player_input()\n",
        "    turn=choose_first()\n",
        "    print(turn + 'will go first')\n",
        "    play_game=input('Ready to play? y or n')\n",
        "    if play_game=='y':\n",
        "        game_on=True\n",
        "    else:\n",
        "        game_on=False\n",
        "    while game_on:\n",
        "        if turn=='Player 1':\n",
        "            display_board(theBoard)\n",
        "            position = player_choice(theBoard)\n",
        "            place_marker(theBoard, player1_marker, position)\n",
        "\n",
        "            if win_check(theBoard, player1_marker):\n",
        "                display_board(theBoard)\n",
        "                print('Congratulations! You have won the game!')\n",
        "                game_on = False\n",
        "            else:\n",
        "                if full_board_check(theBoard):\n",
        "                    display_board(theBoard)\n",
        "                    print('The game is a draw!')\n",
        "                    game_on=False\n",
        "                else:\n",
        "                    turn = 'Player 2'\n",
        "        else:\n",
        "                display_board(theBoard)\n",
        "                position = player_choice(theBoard)\n",
        "                place_marker(theBoard, player2_marker, position)\n",
        "\n",
        "                if win_check(theBoard, player2_marker):\n",
        "                    display_board(theBoard)\n",
        "                    print('Congratulations! You have won the game!')\n",
        "                    game_on = False\n",
        "                else:\n",
        "                    if full_board_check(theBoard):\n",
        "                        display_board(theBoard)\n",
        "                        print('The game is a draw!')\n",
        "                        game_on=False\n",
        "                    else:\n",
        "                        turn = 'Player 1'\n",
        "            \n",
        "\n",
        "    if not replay():\n",
        "        break"
      ],
      "execution_count": 2,
      "outputs": [
        {
          "output_type": "stream",
          "text": [
            "   |   |\n",
            " O | O | X\n",
            "   |   |\n",
            "-----------\n",
            "   |   |\n",
            " X | O | O\n",
            "   |   |\n",
            "-----------\n",
            "   |   |\n",
            " O | X | X\n",
            "   |   |\n",
            "The game is a draw!\n",
            "Want to Play again ?Enter Yes or NoNo\n"
          ],
          "name": "stdout"
        }
      ]
    },
    {
      "cell_type": "code",
      "metadata": {
        "id": "Z37cgYfkYeVc"
      },
      "source": [
        ""
      ],
      "execution_count": null,
      "outputs": []
    }
  ]
}